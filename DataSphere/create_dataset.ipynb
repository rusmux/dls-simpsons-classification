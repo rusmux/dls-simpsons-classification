{
 "cells": [
  {
   "cell_type": "code",
   "execution_count": null,
   "outputs": [],
   "source": [
    "#pragma dataset delete DLS_SIMPSONS"
   ],
   "metadata": {
    "collapsed": false
   }
  },
  {
   "cell_type": "code",
   "execution_count": null,
   "outputs": [],
   "source": [
    "#!:bash\n",
    "#pragma dataset init DLS_SIMPSONS --size 2Gb\n",
    "\n",
    "cd /home/jupyter/mnt/datasets/DLS_SIMPSONS\n",
    "mkdir -p test/test\n",
    "kaggle competitions download -c journey-springfield\n",
    "unzip -n -q journey-springfield.zip\n",
    "rm -rf journey-springfield.zip\n",
    "\n",
    "rm -rf characters_illustration.png sample_submission.csv\n",
    "\n",
    "mv train/simpsons_dataset/* train\n",
    "mv testset/testset/* test/test\n",
    "\n",
    "rm -rf train/simpsons_dataset testset"
   ],
   "metadata": {
    "collapsed": false
   }
  }
 ],
 "metadata": {
  "kernelspec": {
   "display_name": "Python 3",
   "language": "python",
   "name": "python3"
  },
  "language_info": {
   "codemirror_mode": {
    "name": "ipython",
    "version": 2
   },
   "file_extension": ".py",
   "mimetype": "text/x-python",
   "name": "python",
   "nbconvert_exporter": "python",
   "pygments_lexer": "ipython2",
   "version": "2.7.6"
  }
 },
 "nbformat": 4,
 "nbformat_minor": 0
}
